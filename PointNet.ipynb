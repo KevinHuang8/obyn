{
 "cells": [
  {
   "cell_type": "code",
   "execution_count": 6,
   "metadata": {
    "colab": {
     "base_uri": "https://localhost:8080/",
     "height": 511
    },
    "id": "vJd5c7LzesdQ",
    "outputId": "80edb9b1-6c3d-44d9-b902-92fbab47b24b"
   },
   "outputs": [],
   "source": [
    "import tensorflow as tf\n",
    "import tensorflow.keras.layers as tfkl\n",
    "import numpy as np\n",
    "import utils.read_data as read_data\n",
    "import importlib"
   ]
  },
  {
   "cell_type": "code",
   "execution_count": 7,
   "metadata": {
    "id": "xSDYmZfxnxWM"
   },
   "outputs": [],
   "source": [
    "data = read_data.LidarData(category='data_neon')"
   ]
  },
  {
   "cell_type": "code",
   "execution_count": 9,
   "metadata": {
    "id": "DI7vaOeCeltM"
   },
   "outputs": [],
   "source": [
    "# number of points in each sample\n",
    "n_points = 1024\n",
    "# number of categories\n",
    "n_features = 128\n",
    "# epoch number\n",
    "n_epochs = 50\n",
    "# define optimizer\n",
    "optimizer = tf.optimizers.Adam(learning_rate=0.001, decay=0.7)"
   ]
  },
  {
   "cell_type": "code",
   "execution_count": 10,
   "metadata": {
    "id": "eyD7lemNkzKk"
   },
   "outputs": [],
   "source": [
    "def matmul(A, B):\n",
    "    return tf.matmul(A, B)\n",
    "\n",
    "def tile(feature, n_points):\n",
    "    return tf.tile(feature, [1, num_points, 1])"
   ]
  },
  {
   "cell_type": "code",
   "execution_count": 11,
   "metadata": {
    "id": "KcxPFZG7eqUF"
   },
   "outputs": [],
   "source": [
    "def input_transform_net(point_cloud):\n",
    "    x = tfkl.Convolution1D(64, 1, activation='relu', \n",
    "                                    input_shape=(n_points, 3))(point_cloud)\n",
    "    x = tfkl.BatchNormalization()(x)\n",
    "    x = tfkl.Convolution1D(128, 1, activation='relu')(x)\n",
    "    x = tfkl.BatchNormalization()(x)\n",
    "    x = tfkl.Convolution1D(1024, 1, activation='relu')(x)\n",
    "    x = tfkl.BatchNormalization()(x)\n",
    "    x = tfkl.MaxPool1D(pool_size=n_points)(x)\n",
    "    x = tfkl.Dense(512, activation='relu')(x)\n",
    "    x = tfkl.BatchNormalization()(x)\n",
    "    x = tfkl.Dense(256, activation='relu')(x)\n",
    "    x = tfkl.BatchNormalization()(x)\n",
    "    x = tfkl.Dense(9, weights=[np.zeros((256, 9)), \n",
    "                        np.eye(3).flatten().astype(np.float32)])(x)\n",
    "    return tfkl.Reshape((3, 3))(x)\n",
    "\n",
    "def feature_transform_net(inputs):\n",
    "    x = tfkl.Convolution1D(64, 1, activation='relu')(inputs)\n",
    "    x = tfkl.BatchNormalization()(x)\n",
    "    x = tfkl.Convolution1D(128, 1, activation='relu')(x)\n",
    "    x = tfkl.BatchNormalization()(x)\n",
    "    x = tfkl.Convolution1D(1024, 1, activation='relu')(x)\n",
    "    x = tfkl.BatchNormalization()(x)\n",
    "    x = tfkl.MaxPool1D(pool_size=n_points)(x)\n",
    "    x = tfkl.Dense(512, activation='relu')(x)\n",
    "    x = tfkl.BatchNormalization()(x)\n",
    "    x = tfkl.Dense(256, activation='relu')(x)\n",
    "    x = tfkl.BatchNormalization()(x)\n",
    "    x = tfkl.Dense(64 * 64, weights = [np.zeros((256, 64 * 64)), \n",
    "                                     np.eye(64).flatten().astype(np.float32)])(x)\n",
    "    return tfkl.Reshape((64, 64))(x)\n",
    "\n",
    "def compute_cosine_distances(a, b):\n",
    "    # x shape is n_a * dim\n",
    "    # y shape is n_b * dim\n",
    "    # results shape is n_a * n_b\n",
    "\n",
    "    normalize_a = tf.nn.l2_normalize(a,1)        \n",
    "    normalize_b = tf.nn.l2_normalize(b,1)\n",
    "    distance = 1 - tf.matmul(normalize_a, normalize_b, transpose_b=True)\n",
    "    return distance"
   ]
  },
  {
   "cell_type": "code",
   "execution_count": 12,
   "metadata": {
    "id": "bzUdWVPeYjfg"
   },
   "outputs": [],
   "source": [
    "def l2_loss(y_true, y_pred):\n",
    "    loss = tf.norm(y_true - y_pred, axis=(1, 2))\n",
    "    return tf.reduce_mean(loss, axis=-1)"
   ]
  },
  {
   "cell_type": "code",
   "execution_count": 13,
   "metadata": {
    "id": "YFyXWjgNhfpG"
   },
   "outputs": [],
   "source": [
    "def PointNet(cosine=False):\n",
    "    point_cloud = tfkl.Input(shape=(n_points, 3))\n",
    "\n",
    "    input_t = input_transform_net(point_cloud)\n",
    "    # x = tfkl.Lambda(matmul, arguments={'B': input_t})(point_cloud)\n",
    "    x = tf.matmul(point_cloud, input_t)\n",
    "\n",
    "    x = tfkl.Convolution1D(64, 1, activation='relu')(x)\n",
    "    x = tfkl.BatchNormalization()(x)\n",
    "    x = tfkl.Convolution1D(64, 1, activation='relu')(x)\n",
    "    x = tfkl.BatchNormalization()(x)\n",
    "\n",
    "    feature_t = feature_transform_net(x)\n",
    "    # x = tfkl.Lambda(matmul, arguments={'B': feature_t})(x)\n",
    "    x = tf.matmul(x, feature_t)\n",
    "    seg = x\n",
    "\n",
    "    x = tfkl.Convolution1D(64, 1, activation='relu')(x)\n",
    "    x = tfkl.BatchNormalization()(x)\n",
    "    x = tfkl.Convolution1D(128, 1, activation='relu')(x)\n",
    "    x = tfkl.BatchNormalization()(x)\n",
    "    x = tfkl.Convolution1D(1024, 1, activation='relu')(x)\n",
    "    x = tfkl.BatchNormalization()(x)\n",
    "\n",
    "    feature = tfkl.MaxPool1D(pool_size=n_points)(x)\n",
    "    # feature = tfkl.Lambda(tf.tile, arguments={'n_points': n_points})(feature)\n",
    "    feature = tf.tile(feature, [1, n_points, 1])\n",
    "\n",
    "    combined = tfkl.concatenate([seg, feature])\n",
    "    combined = tfkl.Convolution1D(512, 1, activation='relu')(combined)\n",
    "    combined = tfkl.BatchNormalization()(combined)\n",
    "    combined = tfkl.Convolution1D(256, 1, activation='relu')(combined)\n",
    "    combined = tfkl.BatchNormalization()(combined)\n",
    "    combined = tfkl.Convolution1D(128, 1, activation='relu')(combined)\n",
    "    combined = tfkl.BatchNormalization()(combined)\n",
    "    combined = tfkl.Convolution1D(128, 1, activation='relu')(combined)\n",
    "    combined = tfkl.BatchNormalization()(combined)\n",
    "\n",
    "    features = tfkl.Convolution1D(n_features, 1, activation='relu')(combined)\n",
    "    if cosine:\n",
    "        similarities = compute_cosine_distances(features, features)\n",
    "    else:\n",
    "        r = tf.reduce_sum(features * features, 2)\n",
    "        r = tf.reshape(r, [-1, n_points, 1])\n",
    "        similarities = tf.clip_by_value(r - 2 * tf.matmul(features, tf.transpose(features, perm=[0, 2, 1])) + tf.transpose(r, perm=[0, 2, 1]),0,1)\n",
    "    return tf.keras.Model(inputs=point_cloud, outputs=similarities)"
   ]
  },
  {
   "cell_type": "code",
   "execution_count": 14,
   "metadata": {
    "id": "gVd02ND0kDFx"
   },
   "outputs": [],
   "source": [
    "from sklearn.model_selection import train_test_split\n",
    "x_train, x_val, y_train, y_val = train_test_split(data.x, data.y, test_size=0.2)\n",
    "\n",
    "pointnet = PointNet(cosine=False)\n",
    "pointnet.compile(optimizer=optimizer, loss=l2_loss)"
   ]
  },
  {
   "cell_type": "code",
   "execution_count": 16,
   "metadata": {
    "colab": {
     "base_uri": "https://localhost:8080/"
    },
    "id": "FnM4z67EkGaT",
    "outputId": "671635aa-6ae4-4ec1-9c80-0600bb9ee6b2"
   },
   "outputs": [
    {
     "name": "stdout",
     "output_type": "stream",
     "text": [
      "Epoch 1/5\n",
      "37/37 [==============================] - 37s 1s/step - loss: 833.7945 - val_loss: 872.0436\n",
      "Epoch 2/5\n",
      "37/37 [==============================] - 37s 1s/step - loss: 833.4816 - val_loss: 870.2245\n",
      "Epoch 3/5\n",
      "37/37 [==============================] - 38s 1s/step - loss: 833.6317 - val_loss: 868.0428\n",
      "Epoch 4/5\n",
      "37/37 [==============================] - 37s 1s/step - loss: 833.6589 - val_loss: 867.4113\n",
      "Epoch 5/5\n",
      "37/37 [==============================] - 38s 1s/step - loss: 834.5607 - val_loss: 866.4135\n"
     ]
    }
   ],
   "source": [
    "history = pointnet.fit(x_train, y_train, epochs=5, batch_size=8, validation_data=(x_val, y_val))"
   ]
  },
  {
   "cell_type": "code",
   "execution_count": 17,
   "metadata": {
    "colab": {
     "base_uri": "https://localhost:8080/",
     "height": 312
    },
    "id": "KPkvqTGd0tBG",
    "outputId": "664ad863-d04d-4056-dac1-4f5e765fbf82"
   },
   "outputs": [
    {
     "name": "stdout",
     "output_type": "stream",
     "text": [
      "dict_keys(['loss', 'val_loss'])\n"
     ]
    },
    {
     "data": {
      "image/png": "[encoded data removed]",
      "text/plain": [
       "<Figure size 432x288 with 1 Axes>"
      ]
     },
     "metadata": {
      "needs_background": "light"
     },
     "output_type": "display_data"
    }
   ],
   "source": [
    "import matplotlib.pyplot as plt\n",
    "# list all data in history\n",
    "print(history.history.keys())\n",
    "\n",
    "# summarize history for loss\n",
    "plt.plot(history.history['loss'])\n",
    "plt.plot(history.history['val_loss'])\n",
    "plt.title('model loss')\n",
    "plt.ylabel('loss')\n",
    "plt.xlabel('epoch')\n",
    "plt.legend(['train', 'validation'], loc='upper left')\n",
    "plt.show()"
   ]
  },
  {
   "cell_type": "code",
   "execution_count": null,
   "metadata": {},
   "outputs": [],
   "source": []
  }
 ],
 "metadata": {
  "accelerator": "GPU",
  "colab": {
   "collapsed_sections": [],
   "name": "Copy of PointNet.ipynb",
   "provenance": []
  },
  "kernelspec": {
   "display_name": "Python 3",
   "language": "python",
   "name": "python3"
  },
  "language_info": {
   "codemirror_mode": {
    "name": "ipython",
    "version": 3
   },
   "file_extension": ".py",
   "mimetype": "text/x-python",
   "name": "python",
   "nbconvert_exporter": "python",
   "pygments_lexer": "ipython3",
   "version": "3.8.2"
  }
 },
 "nbformat": 4,
 "nbformat_minor": 4
}
